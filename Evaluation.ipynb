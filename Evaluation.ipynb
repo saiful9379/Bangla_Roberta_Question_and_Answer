{
 "cells": [
  {
   "cell_type": "code",
   "execution_count": 27,
   "id": "25fc6bfc",
   "metadata": {},
   "outputs": [],
   "source": [
    "import json\n",
    "import glob\n",
    "import collections\n",
    "from itertools import chain\n",
    "from typing import Any, Dict, Iterator, List, Tuple, Union\n",
    "from transformers import AutoModelForQuestionAnswering, AutoTokenizer, pipeline"
   ]
  },
  {
   "cell_type": "code",
   "execution_count": 28,
   "id": "daa587a8",
   "metadata": {},
   "outputs": [],
   "source": [
    "def read_json_file(file_path):\n",
    "    with open(file_path) as f:\n",
    "        data = json.load(f)\n",
    "    return data"
   ]
  },
  {
   "cell_type": "code",
   "execution_count": 29,
   "id": "cf60eac7",
   "metadata": {},
   "outputs": [],
   "source": [
    "def data_preprocessing(dataset):\n",
    "    contexts, questions, answers = [], [], []\n",
    "    for group in dataset:\n",
    "        for passage in group['paragraphs']:\n",
    "            context = passage['context']\n",
    "            for qa in passage['qas']:\n",
    "                question = qa['question']\n",
    "                for answer in qa['answers']:\n",
    "                    contexts.append(context)\n",
    "                    questions.append(question)\n",
    "                    answers.append(answer)\n",
    "\n",
    "    return contexts, questions, answers"
   ]
  },
  {
   "cell_type": "code",
   "execution_count": 30,
   "id": "95427968",
   "metadata": {},
   "outputs": [],
   "source": [
    "model = AutoModelForQuestionAnswering.from_pretrained(\"saiful9379/Bangla_Roberta_Question_and_Answer\")\n",
    "tokenizer = AutoTokenizer.from_pretrained(\"saiful9379/Bangla_Roberta_Question_and_Answer\", use_fast=True)"
   ]
  },
  {
   "cell_type": "code",
   "execution_count": null,
   "id": "529df16d",
   "metadata": {},
   "outputs": [],
   "source": [
    "bn_val_data_path = \"./bn_dataset/bn/val\"\n",
    "bn_val_files = glob.glob(bn_val_data_path+\"/*.json\")\n",
    "bn_val_list = [i[\"data\"] for i in bn_val_data_list]\n",
    "bn_val_data_list= list(map(read_json_file, bn_val_files))\n",
    "bn_val_data = list(chain(* bn_val_list))"
   ]
  },
  {
   "cell_type": "code",
   "execution_count": 19,
   "id": "d2f0a1ed",
   "metadata": {},
   "outputs": [],
   "source": [
    "test_contexts, test_questions, test_answers = data_preprocessing(bn_val_data)"
   ]
  },
  {
   "cell_type": "code",
   "execution_count": 20,
   "id": "b01e38de",
   "metadata": {},
   "outputs": [],
   "source": [
    "squad_test = {'answers': test_answers,'context': test_contexts, 'question': test_questions}"
   ]
  },
  {
   "cell_type": "code",
   "execution_count": 24,
   "id": "671249ff",
   "metadata": {},
   "outputs": [],
   "source": [
    "ground_truth_values, prediction_values = [], []\n",
    "for answer, context, question in zip(squad_test[\"answers\"], squad_test[\"context\"], squad_test[\"question\"]):\n",
    "    QA = pipeline('question-answering', model=model, tokenizer=tokenizer)\n",
    "    QA_input = {'question': question,'context':context}\n",
    "    prediction = QA(QA_input)\n",
    "    gt = answer[\"text\"]\n",
    "    pt = prediction[\"answer\"]\n",
    "    ground_truth_values.append(gt)\n",
    "    prediction_values.append(pt)"
   ]
  },
  {
   "cell_type": "code",
   "execution_count": 31,
   "id": "07c0b4bc",
   "metadata": {},
   "outputs": [],
   "source": [
    "def compute_f1_score(ground_truth_values: List[str],\n",
    "                     prediction_values: List[str]) -> float:\n",
    "    '''Compute f1 score comparing two list of values.'''\n",
    "    common = (\n",
    "        collections.Counter(prediction_values) &\n",
    "        collections.Counter(ground_truth_values))\n",
    "    num_same = sum(common.values())\n",
    "\n",
    "    # No answer case.\n",
    "    if not ground_truth_values or not prediction_values:\n",
    "        return int(ground_truth_values == prediction_values)\n",
    "\n",
    "    if num_same == 0:\n",
    "        return 0.\n",
    "\n",
    "    precision = 1.0 * num_same / len(prediction_values)\n",
    "    recall = 1.0 * num_same / len(ground_truth_values)\n",
    "    f1_score = (2 * precision * recall) / (precision + recall)\n",
    "    return f1_score"
   ]
  },
  {
   "cell_type": "code",
   "execution_count": 26,
   "id": "09c85c8a",
   "metadata": {},
   "outputs": [
    {
     "name": "stdout",
     "output_type": "stream",
     "text": [
      "f1_score :  0.7072072072072072\n"
     ]
    }
   ],
   "source": [
    "f1_score = compute_f1_score(ground_truth_values, prediction_values)\n",
    "print(\"f1_score : \", f1_score)"
   ]
  }
 ],
 "metadata": {
  "kernelspec": {
   "display_name": "Python 3 (ipykernel)",
   "language": "python",
   "name": "python3"
  },
  "language_info": {
   "codemirror_mode": {
    "name": "ipython",
    "version": 3
   },
   "file_extension": ".py",
   "mimetype": "text/x-python",
   "name": "python",
   "nbconvert_exporter": "python",
   "pygments_lexer": "ipython3",
   "version": "3.10.6"
  }
 },
 "nbformat": 4,
 "nbformat_minor": 5
}
